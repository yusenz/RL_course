{
 "cells": [
  {
   "cell_type": "markdown",
   "metadata": {},
   "source": [
    "Welcome to the first lab module of the RL course!"
   ]
  },
  {
   "cell_type": "markdown",
   "metadata": {},
   "source": [
    "## Install Dependencies\n",
    "This module is used for colab notebook on google, skip if you are using the provided container or your own environment\n",
    "Based on stable baseline zoo notebook: https://colab.research.google.com/github/Stable-Baselines-Team/rl-colab-notebooks/blob/sb3/rl-baselines-zoo.ipynb \n",
    "\n",
    "To start with colab, you need to click the \"connect\" button on the top right corner to allocate a VM for the notebook, you would want to change to GPU if it shows CPU. \n",
    "\n",
    "Then you can run the following cells to install the dependencies. It should take 2~3 minutes to finish. Run the next cell to check if GPU is enabled."
   ]
  },
  {
   "cell_type": "code",
   "execution_count": 1,
   "metadata": {},
   "outputs": [
    {
     "name": "stdout",
     "output_type": "stream",
     "text": [
      "Hit:1 https://developer.download.nvidia.com/compute/cuda/repos/ubuntu2204/x86_64  InRelease\n",
      "Get:2 http://security.ubuntu.com/ubuntu jammy-security InRelease [129 kB]      \n",
      "Hit:3 http://archive.ubuntu.com/ubuntu jammy InRelease                         \n",
      "Get:4 http://archive.ubuntu.com/ubuntu jammy-updates InRelease [128 kB]\n",
      "Hit:5 http://archive.ubuntu.com/ubuntu jammy-backports InRelease    \n",
      "Fetched 257 kB in 1s (284 kB/s)\n",
      "Reading package lists... Done\n",
      "Reading package lists... Done\n",
      "Building dependency tree... Done\n",
      "Reading state information... Done\n",
      "freeglut3-dev is already the newest version (2.8.1-6).\n",
      "swig is already the newest version (4.0.2-1ubuntu1).\n",
      "cmake is already the newest version (3.22.1-1ubuntu1.22.04.2).\n",
      "ffmpeg is already the newest version (7:4.4.2-0ubuntu0.22.04.1).\n",
      "xvfb is already the newest version (2:21.1.4-2ubuntu1.7~22.04.11).\n",
      "0 upgraded, 0 newly installed, 0 to remove and 61 not upgraded.\n",
      "Cloning into 'rl-baselines3-zoo'...\n",
      "remote: Enumerating objects: 5511, done.\u001b[K\n",
      "remote: Counting objects: 100% (27/27), done.\u001b[K\n",
      "remote: Compressing objects: 100% (21/21), done.\u001b[K\n",
      "remote: Total 5511 (delta 8), reused 16 (delta 5), pack-reused 5484 (from 1)\u001b[K\n",
      "Receiving objects: 100% (5511/5511), 3.84 MiB | 8.38 MiB/s, done.\n",
      "Resolving deltas: 100% (3670/3670), done.\n",
      "[Errno 2] No such file or directory: '/content/rl-baselines3-zoo/'\n",
      "/home/rl_course\n"
     ]
    },
    {
     "name": "stderr",
     "output_type": "stream",
     "text": [
      "/opt/conda/lib/python3.10/site-packages/IPython/core/magics/osm.py:393: UserWarning: using bookmarks requires you to install the `pickleshare` library.\n",
      "  bkms = self.shell.db.get('bookmarks', {})\n"
     ]
    },
    {
     "name": "stdout",
     "output_type": "stream",
     "text": [
      "\u001b[31mERROR: Could not open requirements file: [Errno 2] No such file or directory: 'requirements.txt'\u001b[0m\u001b[31m\n",
      "\u001b[0m"
     ]
    }
   ],
   "source": [
    "!apt-get update && apt-get install swig cmake ffmpeg freeglut3-dev xvfb\n",
    "!git clone https://github.com/DLR-RM/rl-baselines3-zoo\n",
    "%cd /content/rl-baselines3-zoo/\n",
    "%pip install -r requirements.txt\n",
    "%cd /content/\n",
    "!git clone https://github.com/yusenz/gym-maze.git\n",
    "%cd /content/gym-maze\n",
    "%pip install -e .\n",
    "%cd /content/\n",
    "%pip install opencv-python-headless"
   ]
  },
  {
   "cell_type": "code",
   "execution_count": 1,
   "metadata": {},
   "outputs": [
    {
     "name": "stdout",
     "output_type": "stream",
     "text": [
      "True\n",
      "0\n",
      "NVIDIA GeForce RTX 4070 Ti\n"
     ]
    }
   ],
   "source": [
    "# sanity testing to see if you have gpu setup correctly\n",
    "# Should display True, 0, and the name of your GPU or some Tesla device on Colab\n",
    "import torch\n",
    "print(torch.cuda.is_available())\n",
    "print(torch.cuda.current_device())\n",
    "print(torch.cuda.get_device_name(torch.cuda.current_device()))"
   ]
  },
  {
   "cell_type": "markdown",
   "metadata": {},
   "source": [
    "## Section 1: The environment\n",
    "As we discussed in the beginning of the course, as well as what you have seen in the first assignment, before we rush to fancy RL algorithms, it is important to understand the problem we are trying to solve. In common baseline environments, these can be already defined for us. However, for practical application, we need to figure out what are the observable states, what are the actions we can take, and design a reward function that will guide the agent to the desired behavior. \n",
    "The most commonly used environment interface in RL research is the OpenAI Gym or the following Gymnasium, and almost all RL implementations can utilize this interface. For practical applications, you may need to write gym wrapper for your own environment, or implement a different control flow due to gym limitations. For now, we will stick to the gym interface. For those who are familiar with older gym versions, we are using gym 0.26.2 here, with `env.step()` returning `state, reward, terminated, truncated, info` instead of `state, reward, done, info`. Also, A LOT of available environments on the internet are using older gym versions, so be careful when you are using them, or fork and manually update the environment. \n",
    "In this lab module, we will be using a 2d maze environment slightly modified from [the original repo](https://github.com/MattChanTK/gym-maze) updated for newer gym version and ipython notebook compatibility. The next cell is the description of the environment adapted from the README of the original repo."
   ]
  },
  {
   "cell_type": "markdown",
   "metadata": {},
   "source": [
    "### Environment Details\n",
    "A simple 2D maze environment where an agent (blue dot) finds its way from the top left corner (blue square) to the goal at the bottom right corner (red square). \n",
    "The objective is to find the shortest path from the start to the goal.\n",
    "\n",
    "<kbd>![Simple 2D maze environment](http://i.giphy.com/Ar3aKxkAAh3y0.gif)</kbd>\n",
    "\n",
    "#### Action space\n",
    "The agent may only choose to go up, down, right, or left (\"N\", \"S\", \"E\", \"W\"; or alternatively: 0, 1, 2, 3). If the way is blocked, it will remain at the same the location. \n",
    "\n",
    "#### Observation space\n",
    "The observation space is the (x, y) coordinate of the agent. The top left cell is `[0. 0.]`.\n",
    "\n",
    "#### Reward\n",
    "A reward of 1 is given when the agent reaches the goal. For every step in the maze, the agent recieves a reward of -0.1/(number of cells). This penalty can be adjusted by the `penalty=0.1` parameter, and the normalization is controlled by `penalty_normalize='size'`. I have implemented a few other normalizations: 'none', 'sqrt_size', 'log_size'. You can use `env = gym.make('maze-sample-10x10-v0',penalty=penalty,penalty_normalize=penalty_normalize)` to change the penalty and normalization.\n",
    "\n",
    "#### End condition\n",
    "The maze is reset when the agent reaches the goal (terminated), or maximum time step (10,000 for 10x10 maze) is reached (truncated). "
   ]
  },
  {
   "cell_type": "markdown",
   "metadata": {},
   "source": [
    "### Questions\n",
    "Why do you think the reward needs a penalty for each step? What would happen if we don't have this penalty? What would happen if we normalize this penalty differently?\n",
    "<details>\n",
    "<summary>Click to reveal</summary>\n",
    " - Thinking might not be the easiest way to solve this, you can try this out with your own experimentation.\n",
    "</details>\n",
    "\n",
    "In the non backward compatible gym update, the `done` flag is replaced by `terminated` and `truncated`. The `terminated` flag is set to `True` when the agent reaches the goal, and `truncated` is set to `True` when the maximum time step is reached. Why do you think we need to differentiate between these two flags? How should the agent behave when `truncated` is `True`?\n",
    "<details>\n",
    "<summary>Click to reveal</summary>\n",
    " - When the agent reaches the goal, the game is finished, and the agent does not have any meaningful action or a q value to update. However, when the maximum time step is reached, the agent can still move in the future, but we cut it off for the current episode. This means that the truncated state can still have a value function. This can be more relevant with more aggressive truncation.\n",
    "</details>"
   ]
  },
  {
   "cell_type": "markdown",
   "metadata": {},
   "source": [
    "## Section 2: The agent\n",
    "The agent is what we learn in RL. The most important aspect of the agent is that, when called by the main loop given a state, it should have the `select_action` method that returns an action - in the most basic random agent, this method will just give a random action irrespective of the state. \n",
    "The base class of the agent is the `BaseAgent` class, which maintains the cumulative reward and the number of steps taken for the current episode if `super().init()`, `super().update_step()` and `super().update_episode()` are called in the actual implementation. Run the next cell to define the `BaseAgent` class."
   ]
  },
  {
   "cell_type": "code",
   "execution_count": 1,
   "metadata": {},
   "outputs": [],
   "source": [
    "class BaseAgent:\n",
    "    def __init__(self, env, verbose=1):\n",
    "        self.env = env\n",
    "        self.observation_space = env.observation_space\n",
    "        self.action_space = env.action_space\n",
    "        self.verbose = verbose\n",
    "        self.cumulative_reward = 0\n",
    "        self.num_steps = 0\n",
    "    def select_action(self, state):\n",
    "        raise NotImplementedError\n",
    "    def update_step(self, reward: float):\n",
    "        self.cumulative_reward += reward\n",
    "        self.num_steps += 1\n",
    "    def update_episode(self):\n",
    "        self.reset_episode()\n",
    "    def update_rollout(self):\n",
    "        if self.verbose > 0:\n",
    "            print('update_rollout in base class is called, nothing is changed')\n",
    "    def update_replay(self):\n",
    "        if self.verbose > 0:\n",
    "            print('update_replay in base class is called, nothing is changed')\n",
    "    def reset_episode(self):\n",
    "        self.cumulative_reward = 0\n",
    "        self.num_steps = 0\n"
   ]
  },
  {
   "cell_type": "markdown",
   "metadata": {},
   "source": [
    "We also provide a random agent for free! The random agent will randomly choose an action from the action space. Run the next cell to define the `random_agent` class."
   ]
  },
  {
   "cell_type": "code",
   "execution_count": 2,
   "metadata": {},
   "outputs": [],
   "source": [
    "class RandomAgent(BaseAgent):\n",
    "    def __init__(self, env, verbose=1):\n",
    "        self.cumulative_reward = 0\n",
    "        super().__init__(env, verbose)\n",
    "    def select_action(self, state):\n",
    "        action = self.action_space.sample()\n",
    "        if self.verbose > 1:\n",
    "            print('Random agent selected action: ', action)\n",
    "        return action\n",
    "    def update_step(self, old_state, action, reward, new_state):\n",
    "        super().update_step(reward)\n",
    "    def update_episode(self, terminated, truncated):\n",
    "        if self.verbose > 0:\n",
    "            if terminated:\n",
    "                print('Episode terminated')\n",
    "            if truncated:\n",
    "                print('Episode truncated')\n",
    "        super().update_episode()\n",
    "    def update_rollout(self):\n",
    "        pass\n",
    "    def update_replay(self):\n",
    "        pass"
   ]
  },
  {
   "cell_type": "markdown",
   "metadata": {},
   "source": [
    "## Section 3: The training loop\n",
    "Now that we have the environment and the agent, we can construct the main loop that let the agent interact with the environment, and let the agent learn from the interaction - although in the case of the random agent, it will not learn anything.\n",
    "Run the next cell to define the main loop that let the random agent interact with the environment for a maximum of 200,000 steps with a 10x10 maze for no more than 100 episodes. With default settings, the random agent will usually time out but occasionally reach the goal. You can try the more aggressive truncation as shown in the commented out code so that you can plot the reward with more episodes - but the agent will likely not reach the goal at all in this case. To demonstrate this effect of cut off, the reward is plotted both against the number of steps and the number of episodes. For random agent, it does not learn and this plot will look like noise. However, for an agent that learns, the reward should increase over time - or you messed up somewhere.\n",
    "This block of code is also used for all the following agents by changing the agent class."
   ]
  },
  {
   "cell_type": "code",
   "execution_count": 15,
   "metadata": {},
   "outputs": [],
   "source": [
    "import gym\n",
    "import gym_maze\n",
    "import numpy as np\n",
    "import sys\n",
    "from matplotlib import pyplot as plt\n",
    "import IPython.display as display\n",
    "import cv2\n",
    "\n",
    "\n",
    "def main_loop(agent, args):\n",
    "    ## experiment parameters\n",
    "    # Training terminates on either reaching NUM_EPISODES or MAX_STEPS_TOTAL\n",
    "    NUM_EPISODES = args['NUM_EPISODES']\n",
    "    MAX_STEPS_TOTAL = args['MAX_STEPS_TOTAL']\n",
    "    RENDER_MAZE = args['RENDER_MAZE']\n",
    "    RENDER_EVERY = args['RENDER_EVERY']  # render every RENDER_EVERY episode because rendering can be slow\n",
    "    verbose = args['verbose']\n",
    "    display_handle = args['display_handle']\n",
    "\n",
    "    ## environment\n",
    "    env = args['env']\n",
    "    obv = env.reset()\n",
    "    # if RENDER_MAZE:\n",
    "    #     env.render()\n",
    "\n",
    "    ## additional parameter initialization\n",
    "    total_steps = 0\n",
    "    cumulative_reward_array = []\n",
    "    num_steps_array = []\n",
    "\n",
    "    ## main loop\n",
    "    for episode in range(NUM_EPISODES):\n",
    "        obv = env.reset()\n",
    "        # truncation is handled by the gym environment\n",
    "        for step in range(MAX_STEPS_TOTAL):\n",
    "            total_steps += 1\n",
    "            old_obv = obv\n",
    "            action = agent.select_action(old_obv)\n",
    "            new_obv, reward, terminated, truncated, info = env.step(action)\n",
    "            if RENDER_MAZE and episode % RENDER_EVERY == 0:\n",
    "                frame = env.render(mode=\"rgb_array\")\n",
    "                # ipython display DOES NOT support rgb_array which should literally be bitmap\n",
    "                # turns out they dont support bitmap either\n",
    "                # bgr_frame = cv2.cvtColor(frame, cv2.COLOR_RGB2BGR)\n",
    "                bgr_frame = frame[:, :, ::-1]\n",
    "                _, frame_png = cv2.imencode('.png', bgr_frame)\n",
    "                frame_bytes = frame_png.tobytes()\n",
    "                display_handle.update(display.Image(data=frame_bytes))\n",
    "\n",
    "\n",
    "            agent.update_step(old_obv, action, reward, new_obv)\n",
    "            if terminated or truncated:\n",
    "                print(f'Episode {episode} finished after {int(agent.num_steps)} steps with total reward {agent.cumulative_reward}')\n",
    "                cumulative_reward_array.append(agent.cumulative_reward)\n",
    "                num_steps_array.append(agent.num_steps)\n",
    "                agent.update_episode(terminated, truncated)\n",
    "                break\n",
    "            if total_steps >= MAX_STEPS_TOTAL:\n",
    "                break\n",
    "        if total_steps >= MAX_STEPS_TOTAL:\n",
    "            break\n",
    "        \n",
    "    plt.plot(cumulative_reward_array)\n",
    "    plt.title(f'Cumulative reward per episode for agent {agent.__class__.__name__}')\n",
    "    plt.xlabel('Episode')\n",
    "    plt.ylabel('Cumulative reward')\n",
    "    plt.show()\n",
    "\n",
    "    # plot against number of steps spent\n",
    "    num_steps_cumulative = np.cumsum(num_steps_array)\n",
    "    plt.plot(num_steps_cumulative, cumulative_reward_array)\n",
    "    plt.title(f'Cumulative reward against number of steps for agent {agent.__class__.__name__}')\n",
    "    plt.xlabel('Number of steps')\n",
    "    plt.ylabel('Cumulative reward')\n",
    "    plt.show()\n",
    "\n"
   ]
  },
  {
   "cell_type": "code",
   "execution_count": 11,
   "metadata": {},
   "outputs": [
    {
     "name": "stdout",
     "output_type": "stream",
     "text": [
      "True\n"
     ]
    }
   ],
   "source": [
    "print(cv2.useOptimized()) "
   ]
  },
  {
   "cell_type": "markdown",
   "metadata": {},
   "source": [
    "Then, run the next cell to see the random agent in action."
   ]
  },
  {
   "cell_type": "code",
   "execution_count": 19,
   "metadata": {},
   "outputs": [
    {
     "name": "stderr",
     "output_type": "stream",
     "text": [
      "error: XDG_RUNTIME_DIR not set in the environment.\n",
      "libEGL warning: MESA-LOADER: failed to open swrast: /usr/lib/dri/swrast_dri.so: cannot open shared object file: No such file or directory (search paths /usr/lib/x86_64-linux-gnu/dri:\\$${ORIGIN}/dri:/usr/lib/dri, suffix _dri)\n",
      "\n",
      "libEGL warning: MESA-LOADER: failed to open swrast: /usr/lib/dri/swrast_dri.so: cannot open shared object file: No such file or directory (search paths /usr/lib/x86_64-linux-gnu/dri:\\$${ORIGIN}/dri:/usr/lib/dri, suffix _dri)\n",
      "\n",
      "libEGL warning: MESA-LOADER: failed to open swrast: /usr/lib/dri/swrast_dri.so: cannot open shared object file: No such file or directory (search paths /usr/lib/x86_64-linux-gnu/dri:\\$${ORIGIN}/dri:/usr/lib/dri, suffix _dri)\n",
      "\n",
      "libEGL warning: MESA-LOADER: failed to open swrast: /usr/lib/dri/swrast_dri.so: cannot open shared object file: No such file or directory (search paths /usr/lib/x86_64-linux-gnu/dri:\\$${ORIGIN}/dri:/usr/lib/dri, suffix _dri)\n",
      "\n"
     ]
    },
    {
     "data": {
      "image/png": "[encoded data removed]",
      "text/plain": [
       "<IPython.core.display.Image object>"
      ]
     },
     "metadata": {},
     "output_type": "display_data"
    },
    {
     "name": "stdout",
     "output_type": "stream",
     "text": [
      "Episode 0 finished after 3911 steps with total reward -2.9099999999996804\n",
      "Episode terminated\n"
     ]
    },
    {
     "data": {
      "image/png": "[encoded data removed]",
      "text/plain": [
       "<Figure size 640x480 with 1 Axes>"
      ]
     },
     "metadata": {},
     "output_type": "display_data"
    },
    {
     "data": {
      "image/png": "[encoded data removed]",
      "text/plain": [
       "<Figure size 640x480 with 1 Axes>"
      ]
     },
     "metadata": {},
     "output_type": "display_data"
    }
   ],
   "source": [
    "env = gym.make('maze-sample-10x10-v0')\n",
    "# Default max_episode_steps is 10000 for 10x10 maze\n",
    "# Can be changed with the following line - Note: you HAVE TO comment one out or pygame will throw error with rendering\n",
    "# env = gym.make(\"maze-sample-10x10-v0\", max_episode_steps=2000)\n",
    "args = {\n",
    "    'env': env,\n",
    "    'NUM_EPISODES': 1,\n",
    "    'MAX_STEPS_TOTAL': 200000,\n",
    "    'RENDER_MAZE': True,\n",
    "    'RENDER_EVERY': 5,\n",
    "    'verbose': 1,\n",
    "    'display_handle': display.display(None, display_id=True)\n",
    "}\n",
    "agent = RandomAgent(env)\n",
    "main_loop(agent, args)"
   ]
  },
  {
   "cell_type": "markdown",
   "metadata": {},
   "source": [
    "## Section 4: Monte Carlo\n",
    "Monte Carlo methods learn from the full episode. This means that the agent should only update the value function after the episode is finished in `update_episode`. But you do want to store the visited states and actions at each step in `update_step`. \n",
    "Fill in the blanks into the next block to define the Monte Carlo agent, then run the following block to see the Monte Carlo agent in action."
   ]
  },
  {
   "cell_type": "code",
   "execution_count": null,
   "metadata": {},
   "outputs": [],
   "source": [
    "class MonteCarloAgent(BaseAgent):\n",
    "    def __init__(self, env, verbose=1):\n",
    "        super().__init__(env, verbose)\n",
    "    def select_action(self, state):\n",
    "        raise NotImplementedError\n",
    "    def update_step(self, old_state, action, reward, new_state):\n",
    "        super().update_step(reward)\n",
    "    def update_episode(self, terminated, truncated):\n",
    "        if self.verbose > 0:\n",
    "            if terminated:\n",
    "                print('Episode terminated')\n",
    "            if truncated:\n",
    "                print('Episode truncated')\n",
    "        super().update_episode()\n",
    "    def reset_episode(self):\n",
    "        super().reset_episode()"
   ]
  },
  {
   "cell_type": "code",
   "execution_count": null,
   "metadata": {},
   "outputs": [],
   "source": [
    "env = gym.make('maze-sample-10x10-v0')\n",
    "# env = gym.make(\"maze-sample-10x10-v0\", max_episode_steps=2000)\n",
    "args = {\n",
    "    'env': env,\n",
    "    'NUM_EPISODES': 100,\n",
    "    'MAX_STEPS_TOTAL': 200000,\n",
    "    'RENDER_MAZE': True,\n",
    "    'RENDER_EVERY': 5,\n",
    "    'verbose': 1\n",
    "}\n",
    "agent_kwargs = {\n",
    "    'env': env,\n",
    "    'verbose': 1\n",
    "}\n",
    "agent = MonteCarloAgent(**agent_kwargs)\n",
    "main_loop(agent, args)"
   ]
  },
  {
   "cell_type": "markdown",
   "metadata": {},
   "source": [
    "## Section 5: TD0\n",
    "Instead of learning from the full episode like Monte Carlo, TD0 learns from each step. This means that the agent should update the value function at each step in `update_step`."
   ]
  },
  {
   "cell_type": "markdown",
   "metadata": {},
   "source": [
    "## Section 6: TD Lambda"
   ]
  },
  {
   "cell_type": "markdown",
   "metadata": {},
   "source": [
    "## Section 7: SARSA"
   ]
  },
  {
   "cell_type": "markdown",
   "metadata": {},
   "source": [
    "## Section 8: Q-learning"
   ]
  },
  {
   "cell_type": "code",
   "execution_count": 24,
   "metadata": {},
   "outputs": [
    {
     "name": "stderr",
     "output_type": "stream",
     "text": [
      "error: XDG_RUNTIME_DIR not set in the environment.\n"
     ]
    },
    {
     "data": {
      "text/plain": [
       "None"
      ]
     },
     "metadata": {},
     "output_type": "display_data"
    },
    {
     "name": "stderr",
     "output_type": "stream",
     "text": [
      "libEGL warning: MESA-LOADER: failed to open swrast: /usr/lib/dri/swrast_dri.so: cannot open shared object file: No such file or directory (search paths /usr/lib/x86_64-linux-gnu/dri:\\$${ORIGIN}/dri:/usr/lib/dri, suffix _dri)\n",
      "\n",
      "libEGL warning: MESA-LOADER: failed to open swrast: /usr/lib/dri/swrast_dri.so: cannot open shared object file: No such file or directory (search paths /usr/lib/x86_64-linux-gnu/dri:\\$${ORIGIN}/dri:/usr/lib/dri, suffix _dri)\n",
      "\n",
      "libEGL warning: MESA-LOADER: failed to open swrast: /usr/lib/dri/swrast_dri.so: cannot open shared object file: No such file or directory (search paths /usr/lib/x86_64-linux-gnu/dri:\\$${ORIGIN}/dri:/usr/lib/dri, suffix _dri)\n",
      "\n",
      "libEGL warning: MESA-LOADER: failed to open swrast: /usr/lib/dri/swrast_dri.so: cannot open shared object file: No such file or directory (search paths /usr/lib/x86_64-linux-gnu/dri:\\$${ORIGIN}/dri:/usr/lib/dri, suffix _dri)\n",
      "\n"
     ]
    },
    {
     "ename": "KeyboardInterrupt",
     "evalue": "",
     "output_type": "error",
     "traceback": [
      "\u001b[0;31m---------------------------------------------------------------------------\u001b[0m",
      "\u001b[0;31mKeyboardInterrupt\u001b[0m                         Traceback (most recent call last)",
      "Cell \u001b[0;32mIn[24], line 189\u001b[0m\n\u001b[1;32m    184\u001b[0m \u001b[38;5;250m\u001b[39m\u001b[38;5;124;03m'''\u001b[39;00m\n\u001b[1;32m    185\u001b[0m \u001b[38;5;124;03mBegin simulation\u001b[39;00m\n\u001b[1;32m    186\u001b[0m \u001b[38;5;124;03m'''\u001b[39;00m\n\u001b[1;32m    187\u001b[0m recording_folder \u001b[38;5;241m=\u001b[39m \u001b[38;5;124m\"\u001b[39m\u001b[38;5;124m/mnt/maze_q_learning\u001b[39m\u001b[38;5;124m\"\u001b[39m\n\u001b[0;32m--> 189\u001b[0m \u001b[43msimulate\u001b[49m\u001b[43m(\u001b[49m\u001b[43m)\u001b[49m\n",
      "Cell \u001b[0;32mIn[24], line 79\u001b[0m, in \u001b[0;36msimulate\u001b[0;34m()\u001b[0m\n\u001b[1;32m     77\u001b[0m \u001b[38;5;66;03m# Render tha maze\u001b[39;00m\n\u001b[1;32m     78\u001b[0m \u001b[38;5;28;01mif\u001b[39;00m RENDER_MAZE:\n\u001b[0;32m---> 79\u001b[0m     \u001b[43menv\u001b[49m\u001b[38;5;241;43m.\u001b[39;49m\u001b[43mrender\u001b[49m\u001b[43m(\u001b[49m\u001b[43m)\u001b[49m\n\u001b[1;32m     81\u001b[0m \u001b[38;5;28;01mif\u001b[39;00m env\u001b[38;5;241m.\u001b[39mis_game_over():\n\u001b[1;32m     82\u001b[0m     sys\u001b[38;5;241m.\u001b[39mexit()\n",
      "File \u001b[0;32m/opt/conda/lib/python3.10/site-packages/gym-0.26.2-py3.10.egg/gym/core.py:329\u001b[0m, in \u001b[0;36mWrapper.render\u001b[0;34m(self, *args, **kwargs)\u001b[0m\n\u001b[1;32m    325\u001b[0m \u001b[38;5;28;01mdef\u001b[39;00m \u001b[38;5;21mrender\u001b[39m(\n\u001b[1;32m    326\u001b[0m     \u001b[38;5;28mself\u001b[39m, \u001b[38;5;241m*\u001b[39margs, \u001b[38;5;241m*\u001b[39m\u001b[38;5;241m*\u001b[39mkwargs\n\u001b[1;32m    327\u001b[0m ) \u001b[38;5;241m-\u001b[39m\u001b[38;5;241m>\u001b[39m Optional[Union[RenderFrame, List[RenderFrame]]]:\n\u001b[1;32m    328\u001b[0m \u001b[38;5;250m    \u001b[39m\u001b[38;5;124;03m\"\"\"Renders the environment.\"\"\"\u001b[39;00m\n\u001b[0;32m--> 329\u001b[0m     \u001b[38;5;28;01mreturn\u001b[39;00m \u001b[38;5;28;43mself\u001b[39;49m\u001b[38;5;241;43m.\u001b[39;49m\u001b[43menv\u001b[49m\u001b[38;5;241;43m.\u001b[39;49m\u001b[43mrender\u001b[49m\u001b[43m(\u001b[49m\u001b[38;5;241;43m*\u001b[39;49m\u001b[43margs\u001b[49m\u001b[43m,\u001b[49m\u001b[43m \u001b[49m\u001b[38;5;241;43m*\u001b[39;49m\u001b[38;5;241;43m*\u001b[39;49m\u001b[43mkwargs\u001b[49m\u001b[43m)\u001b[49m\n",
      "File \u001b[0;32m/opt/conda/lib/python3.10/site-packages/gym-0.26.2-py3.10.egg/gym/wrappers/order_enforcing.py:51\u001b[0m, in \u001b[0;36mOrderEnforcing.render\u001b[0;34m(self, *args, **kwargs)\u001b[0m\n\u001b[1;32m     46\u001b[0m \u001b[38;5;28;01mif\u001b[39;00m \u001b[38;5;129;01mnot\u001b[39;00m \u001b[38;5;28mself\u001b[39m\u001b[38;5;241m.\u001b[39m_disable_render_order_enforcing \u001b[38;5;129;01mand\u001b[39;00m \u001b[38;5;129;01mnot\u001b[39;00m \u001b[38;5;28mself\u001b[39m\u001b[38;5;241m.\u001b[39m_has_reset:\n\u001b[1;32m     47\u001b[0m     \u001b[38;5;28;01mraise\u001b[39;00m ResetNeeded(\n\u001b[1;32m     48\u001b[0m         \u001b[38;5;124m\"\u001b[39m\u001b[38;5;124mCannot call `env.render()` before calling `env.reset()`, if this is a intended action, \u001b[39m\u001b[38;5;124m\"\u001b[39m\n\u001b[1;32m     49\u001b[0m         \u001b[38;5;124m\"\u001b[39m\u001b[38;5;124mset `disable_render_order_enforcing=True` on the OrderEnforcer wrapper.\u001b[39m\u001b[38;5;124m\"\u001b[39m\n\u001b[1;32m     50\u001b[0m     )\n\u001b[0;32m---> 51\u001b[0m \u001b[38;5;28;01mreturn\u001b[39;00m \u001b[38;5;28;43mself\u001b[39;49m\u001b[38;5;241;43m.\u001b[39;49m\u001b[43menv\u001b[49m\u001b[38;5;241;43m.\u001b[39;49m\u001b[43mrender\u001b[49m\u001b[43m(\u001b[49m\u001b[38;5;241;43m*\u001b[39;49m\u001b[43margs\u001b[49m\u001b[43m,\u001b[49m\u001b[43m \u001b[49m\u001b[38;5;241;43m*\u001b[39;49m\u001b[38;5;241;43m*\u001b[39;49m\u001b[43mkwargs\u001b[49m\u001b[43m)\u001b[49m\n",
      "File \u001b[0;32m/opt/conda/lib/python3.10/site-packages/gym-0.26.2-py3.10.egg/gym/wrappers/env_checker.py:55\u001b[0m, in \u001b[0;36mPassiveEnvChecker.render\u001b[0;34m(self, *args, **kwargs)\u001b[0m\n\u001b[1;32m     53\u001b[0m     \u001b[38;5;28;01mreturn\u001b[39;00m env_render_passive_checker(\u001b[38;5;28mself\u001b[39m\u001b[38;5;241m.\u001b[39menv, \u001b[38;5;241m*\u001b[39margs, \u001b[38;5;241m*\u001b[39m\u001b[38;5;241m*\u001b[39mkwargs)\n\u001b[1;32m     54\u001b[0m \u001b[38;5;28;01melse\u001b[39;00m:\n\u001b[0;32m---> 55\u001b[0m     \u001b[38;5;28;01mreturn\u001b[39;00m \u001b[38;5;28;43mself\u001b[39;49m\u001b[38;5;241;43m.\u001b[39;49m\u001b[43menv\u001b[49m\u001b[38;5;241;43m.\u001b[39;49m\u001b[43mrender\u001b[49m\u001b[43m(\u001b[49m\u001b[38;5;241;43m*\u001b[39;49m\u001b[43margs\u001b[49m\u001b[43m,\u001b[49m\u001b[43m \u001b[49m\u001b[38;5;241;43m*\u001b[39;49m\u001b[38;5;241;43m*\u001b[39;49m\u001b[43mkwargs\u001b[49m\u001b[43m)\u001b[49m\n",
      "File \u001b[0;32m/opt/conda/lib/python3.10/site-packages/gym_maze-0.4-py3.10.egg/gym_maze/envs/maze_env.py:122\u001b[0m, in \u001b[0;36mMazeEnv.render\u001b[0;34m(self, mode, close)\u001b[0m\n\u001b[1;32m    119\u001b[0m \u001b[38;5;28;01mif\u001b[39;00m close:\n\u001b[1;32m    120\u001b[0m     \u001b[38;5;28mself\u001b[39m\u001b[38;5;241m.\u001b[39mmaze_view\u001b[38;5;241m.\u001b[39mquit_game()\n\u001b[0;32m--> 122\u001b[0m \u001b[38;5;28;01mreturn\u001b[39;00m \u001b[38;5;28;43mself\u001b[39;49m\u001b[38;5;241;43m.\u001b[39;49m\u001b[43mmaze_view\u001b[49m\u001b[38;5;241;43m.\u001b[39;49m\u001b[43mupdate\u001b[49m\u001b[43m(\u001b[49m\u001b[43mmode\u001b[49m\u001b[43m)\u001b[49m\n",
      "File \u001b[0;32m/opt/conda/lib/python3.10/site-packages/gym_maze-0.4-py3.10.egg/gym_maze/envs/maze_view_2d.py:76\u001b[0m, in \u001b[0;36mMazeView2D.update\u001b[0;34m(self, mode)\u001b[0m\n\u001b[1;32m     74\u001b[0m \u001b[38;5;28;01mdef\u001b[39;00m \u001b[38;5;21mupdate\u001b[39m(\u001b[38;5;28mself\u001b[39m, mode\u001b[38;5;241m=\u001b[39m\u001b[38;5;124m\"\u001b[39m\u001b[38;5;124mhuman\u001b[39m\u001b[38;5;124m\"\u001b[39m):\n\u001b[1;32m     75\u001b[0m     \u001b[38;5;28;01mtry\u001b[39;00m:\n\u001b[0;32m---> 76\u001b[0m         img_output \u001b[38;5;241m=\u001b[39m \u001b[38;5;28;43mself\u001b[39;49m\u001b[38;5;241;43m.\u001b[39;49m\u001b[43m__view_update\u001b[49m\u001b[43m(\u001b[49m\u001b[43mmode\u001b[49m\u001b[43m)\u001b[49m\n\u001b[1;32m     77\u001b[0m         \u001b[38;5;28mself\u001b[39m\u001b[38;5;241m.\u001b[39m__controller_update()\n\u001b[1;32m     78\u001b[0m     \u001b[38;5;28;01mexcept\u001b[39;00m \u001b[38;5;167;01mException\u001b[39;00m \u001b[38;5;28;01mas\u001b[39;00m e:\n",
      "File \u001b[0;32m/opt/conda/lib/python3.10/site-packages/gym_maze-0.4-py3.10.egg/gym_maze/envs/maze_view_2d.py:143\u001b[0m, in \u001b[0;36mMazeView2D.__view_update\u001b[0;34m(self, mode)\u001b[0m\n\u001b[1;32m    139\u001b[0m     pygame\u001b[38;5;241m.\u001b[39mimage\u001b[38;5;241m.\u001b[39msave(\u001b[38;5;28mself\u001b[39m\u001b[38;5;241m.\u001b[39mscreen, \u001b[38;5;124m\"\u001b[39m\u001b[38;5;124mmaze.jpeg\u001b[39m\u001b[38;5;124m\"\u001b[39m)\n\u001b[1;32m    140\u001b[0m     \u001b[38;5;28mself\u001b[39m\u001b[38;5;241m.\u001b[39m__display_handle\u001b[38;5;241m.\u001b[39mupdate(Image(\u001b[38;5;124m\"\u001b[39m\u001b[38;5;124mmaze.jpeg\u001b[39m\u001b[38;5;124m\"\u001b[39m))\n\u001b[0;32m--> 143\u001b[0m \u001b[38;5;28;01mreturn\u001b[39;00m np\u001b[38;5;241m.\u001b[39mflipud(np\u001b[38;5;241m.\u001b[39mrot90(\u001b[43mpygame\u001b[49m\u001b[38;5;241;43m.\u001b[39;49m\u001b[43msurfarray\u001b[49m\u001b[38;5;241;43m.\u001b[39;49m\u001b[43marray3d\u001b[49m\u001b[43m(\u001b[49m\u001b[43mpygame\u001b[49m\u001b[38;5;241;43m.\u001b[39;49m\u001b[43mdisplay\u001b[49m\u001b[38;5;241;43m.\u001b[39;49m\u001b[43mget_surface\u001b[49m\u001b[43m(\u001b[49m\u001b[43m)\u001b[49m\u001b[43m)\u001b[49m))\n",
      "File \u001b[0;32m/opt/conda/lib/python3.10/site-packages/pygame-2.6.0-py3.10-linux-x86_64.egg/pygame/surfarray.py:193\u001b[0m, in \u001b[0;36marray3d\u001b[0;34m(surface)\u001b[0m\n\u001b[1;32m    191\u001b[0m width, height \u001b[38;5;241m=\u001b[39m surface\u001b[38;5;241m.\u001b[39mget_size()\n\u001b[1;32m    192\u001b[0m array \u001b[38;5;241m=\u001b[39m numpy\u001b[38;5;241m.\u001b[39mempty((width, height, \u001b[38;5;241m3\u001b[39m), numpy\u001b[38;5;241m.\u001b[39muint8)\n\u001b[0;32m--> 193\u001b[0m \u001b[43msurface_to_array\u001b[49m\u001b[43m(\u001b[49m\u001b[43marray\u001b[49m\u001b[43m,\u001b[49m\u001b[43m \u001b[49m\u001b[43msurface\u001b[49m\u001b[43m)\u001b[49m\n\u001b[1;32m    194\u001b[0m \u001b[38;5;28;01mreturn\u001b[39;00m array\n",
      "\u001b[0;31mKeyboardInterrupt\u001b[0m: "
     ]
    }
   ],
   "source": [
    "## debug code for maze env\n",
    "\n",
    "import sys\n",
    "import numpy as np\n",
    "import math\n",
    "import random\n",
    "\n",
    "import gym\n",
    "import gym_maze\n",
    "\n",
    "\n",
    "def simulate():\n",
    "\n",
    "    # Instantiating the learning related parameters\n",
    "    learning_rate = get_learning_rate(0)\n",
    "    explore_rate = get_explore_rate(0)\n",
    "    discount_factor = 0.99\n",
    "\n",
    "    num_streaks = 0\n",
    "\n",
    "    # Render tha maze\n",
    "    obv = env.reset()\n",
    "    env.render()\n",
    "\n",
    "    for episode in range(NUM_EPISODES):\n",
    "\n",
    "        # Reset the environment\n",
    "        obv = env.reset()\n",
    "\n",
    "        # the initial state\n",
    "        state_0 = state_to_bucket(obv)\n",
    "        total_reward = 0\n",
    "\n",
    "        for t in range(MAX_T):\n",
    "\n",
    "            # Select an action\n",
    "            action = select_action(state_0, explore_rate)\n",
    "\n",
    "            # execute the action\n",
    "            obv, reward, terminated, truncated, _ = env.step(action)\n",
    "            done = terminated or truncated\n",
    "\n",
    "            # Observe the result\n",
    "            state = state_to_bucket(obv)\n",
    "            total_reward += reward\n",
    "\n",
    "            # Update the Q based on the result\n",
    "            best_q = np.amax(q_table[state])\n",
    "            q_table[state_0 + (action,)] += learning_rate * (reward + discount_factor * (best_q) - q_table[state_0 + (action,)])\n",
    "\n",
    "            # Setting up for the next iteration\n",
    "            state_0 = state\n",
    "\n",
    "            # Print data\n",
    "            if DEBUG_MODE == 2:\n",
    "                print(\"\\nEpisode = %d\" % episode)\n",
    "                print(\"t = %d\" % t)\n",
    "                print(\"Action: %d\" % action)\n",
    "                print(\"State: %s\" % str(state))\n",
    "                print(\"Reward: %f\" % reward)\n",
    "                print(\"Best Q: %f\" % best_q)\n",
    "                print(\"Explore rate: %f\" % explore_rate)\n",
    "                print(\"Learning rate: %f\" % learning_rate)\n",
    "                print(\"Streaks: %d\" % num_streaks)\n",
    "                print(\"\")\n",
    "\n",
    "            elif DEBUG_MODE == 1:\n",
    "                if done or t >= MAX_T - 1:\n",
    "                    print(\"\\nEpisode = %d\" % episode)\n",
    "                    print(\"t = %d\" % t)\n",
    "                    print(\"Explore rate: %f\" % explore_rate)\n",
    "                    print(\"Learning rate: %f\" % learning_rate)\n",
    "                    print(\"Streaks: %d\" % num_streaks)\n",
    "                    print(\"Total reward: %f\" % total_reward)\n",
    "                    print(\"\")\n",
    "\n",
    "            # Render tha maze\n",
    "            if RENDER_MAZE:\n",
    "                env.render()\n",
    "\n",
    "            if env.is_game_over():\n",
    "                sys.exit()\n",
    "\n",
    "            if done:\n",
    "                print(\"Episode %d finished after %f time steps with total reward = %f (streak %d).\"\n",
    "                      % (episode, t, total_reward, num_streaks))\n",
    "\n",
    "                if t <= SOLVED_T:\n",
    "                    num_streaks += 1\n",
    "                else:\n",
    "                    num_streaks = 0\n",
    "                break\n",
    "\n",
    "            elif t >= MAX_T - 1:\n",
    "                print(\"Episode %d timed out at %d with total reward = %f.\"\n",
    "                      % (episode, t, total_reward))\n",
    "\n",
    "        # It's considered done when it's solved over 120 times consecutively\n",
    "        if num_streaks > STREAK_TO_END:\n",
    "            break\n",
    "\n",
    "        # Update parameters\n",
    "        explore_rate = get_explore_rate(episode)\n",
    "        learning_rate = get_learning_rate(episode)\n",
    "\n",
    "\n",
    "def select_action(state, explore_rate):\n",
    "    # Select a random action\n",
    "    if random.random() < explore_rate:\n",
    "        action = env.action_space.sample()\n",
    "    # Select the action with the highest q\n",
    "    else:\n",
    "        action = int(np.argmax(q_table[state]))\n",
    "    return action\n",
    "\n",
    "\n",
    "def get_explore_rate(t):\n",
    "    return max(MIN_EXPLORE_RATE, min(0.8, 1.0 - math.log10((t+1)/DECAY_FACTOR)))\n",
    "\n",
    "\n",
    "def get_learning_rate(t):\n",
    "    return max(MIN_LEARNING_RATE, min(0.8, 1.0 - math.log10((t+1)/DECAY_FACTOR)))\n",
    "\n",
    "\n",
    "def state_to_bucket(state):\n",
    "    bucket_indice = []\n",
    "    for i in range(len(state)):\n",
    "        if state[i] <= STATE_BOUNDS[i][0]:\n",
    "            bucket_index = 0\n",
    "        elif state[i] >= STATE_BOUNDS[i][1]:\n",
    "            bucket_index = NUM_BUCKETS[i] - 1\n",
    "        else:\n",
    "            # Mapping the state bounds to the bucket array\n",
    "            bound_width = STATE_BOUNDS[i][1] - STATE_BOUNDS[i][0]\n",
    "            offset = (NUM_BUCKETS[i]-1)*STATE_BOUNDS[i][0]/bound_width\n",
    "            scaling = (NUM_BUCKETS[i]-1)/bound_width\n",
    "            bucket_index = int(round(scaling*state[i] - offset))\n",
    "        bucket_indice.append(bucket_index)\n",
    "    return tuple(bucket_indice)\n",
    "\n",
    "\n",
    "if __name__ == \"__main__\":\n",
    "\n",
    "    # Initialize the \"maze\" environment\n",
    "    # env = gym.make(\"maze-random-10x10-plus-v0\")\n",
    "    # env = gym.make(\"maze-random-10x10-v0\")\n",
    "    env = gym.make(\"maze-sample-10x10-v0\")\n",
    "\n",
    "\n",
    "    '''\n",
    "    Defining the environment related constants\n",
    "    '''\n",
    "    # Number of discrete states (bucket) per state dimension\n",
    "    MAZE_SIZE = tuple((env.observation_space.high + np.ones(env.observation_space.shape)).astype(int))\n",
    "    NUM_BUCKETS = MAZE_SIZE  # one bucket per grid\n",
    "\n",
    "    # Number of discrete actions\n",
    "    NUM_ACTIONS = env.action_space.n  # [\"N\", \"S\", \"E\", \"W\"]\n",
    "    # Bounds for each discrete state\n",
    "    STATE_BOUNDS = list(zip(env.observation_space.low, env.observation_space.high))\n",
    "\n",
    "    '''\n",
    "    Learning related constants\n",
    "    '''\n",
    "    MIN_EXPLORE_RATE = 0.001\n",
    "    MIN_LEARNING_RATE = 0.2\n",
    "    DECAY_FACTOR = np.prod(MAZE_SIZE, dtype=float) / 10.0\n",
    "\n",
    "    '''\n",
    "    Defining the simulation related constants\n",
    "    '''\n",
    "    NUM_EPISODES = 50000\n",
    "    MAX_T = np.prod(MAZE_SIZE, dtype=int) * 100\n",
    "    STREAK_TO_END = 100\n",
    "    SOLVED_T = np.prod(MAZE_SIZE, dtype=int)\n",
    "    DEBUG_MODE = 0\n",
    "    RENDER_MAZE = True\n",
    "\n",
    "    '''\n",
    "    Creating a Q-Table for each state-action pair\n",
    "    '''\n",
    "    q_table = np.zeros(NUM_BUCKETS + (NUM_ACTIONS,), dtype=float)\n",
    "\n",
    "    '''\n",
    "    Begin simulation\n",
    "    '''\n",
    "    recording_folder = \"/mnt/maze_q_learning\"\n",
    "\n",
    "    simulate()\n"
   ]
  }
 ],
 "metadata": {
  "kernelspec": {
   "display_name": "Python 3 (ipykernel)",
   "language": "python",
   "name": "python3"
  },
  "language_info": {
   "codemirror_mode": {
    "name": "ipython",
    "version": 3
   },
   "file_extension": ".py",
   "mimetype": "text/x-python",
   "name": "python",
   "nbconvert_exporter": "python",
   "pygments_lexer": "ipython3",
   "version": "3.10.14"
  }
 },
 "nbformat": 4,
 "nbformat_minor": 2
}
